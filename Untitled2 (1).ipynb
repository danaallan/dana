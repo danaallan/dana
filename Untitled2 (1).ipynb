{
 "cells": [
  {
   "cell_type": "code",
   "execution_count": null,
   "id": "dff5e29e-9513-4894-a1bc-2a2bba53a627",
   "metadata": {},
   "outputs": [],
   "source": [
    "import pandas as pd\n",
    "import openpyxl"
   ]
  },
  {
   "cell_type": "code",
   "execution_count": null,
   "id": "0b021b7a-8e85-479f-a5b9-9f5a4ef6afa5",
   "metadata": {},
   "outputs": [],
   "source": [
    "df = pd.read_excel('C:/Users/Admin/Downloads/Employee Sample Data - Copy.xlsx')"
   ]
  },
  {
   "cell_type": "code",
   "execution_count": null,
   "id": "b11b9eee-6616-4f8f-a317-c4e4b1d93328",
   "metadata": {},
   "outputs": [],
   "source": [
    "df.fillna(200, inplace = True)"
   ]
  },
  {
   "cell_type": "code",
   "execution_count": null,
   "id": "9606c7ec-a8c3-4a22-9ae1-45c309833744",
   "metadata": {},
   "outputs": [],
   "source": [
    "df.loc[:4,'EEID'] =['E012030','E12034','E20987','E27640','E03451']\n",
    "df.loc[:4, 'Full Name'] = ['John Doe', 'Jane Smith', 'Michael Johnson', 'Emily Brown', 'Daniel Williams']\n",
    "df.loc[:4, 'Job Title']  = ['HRIS Analyst','Computer Systems Manager','Network Architect','Field Engineer','Manager']\n",
    "df.loc[:4,'Department'] =['sales','Engineering','Marketing','Human Resources','Accounting']\n",
    "df.loc[:4,'Business Unit'] =['Manufacturing','Research & Development','Corporate','Speciality Products','Research & Development']\n",
    "df.loc[:4,'Gender']=['Male','Female','Male','Male','Female']\n",
    "df.loc[:4,'Ethnicity']=['Asian','Black','Asian','Caucasian','Black']\n",
    "df.loc[:4,'Age']=['30','40','32','39','44']\n",
    "df.loc[:4,'Hire Date']=['20/1/2000','1/1/2001','9/8/1990','9/2/1999','17/9/2017']\n",
    "df.loc[:4,'Annual Salary']=['$119,746','$222,130','$110,230','$420,110','$550,123']\n",
    "df.loc[:4,'Bonus %']=['1%','2%','5%','3%','10%']\n",
    "df.loc[:4,'Country']=['China','Jordan','Bali','London','Lebanon']\n",
    "df.loc[:4,'City']=['Austin','Austin','Austin','Austin','Austin']\n",
    "df.loc[:4,'Exit Date']=['10/10/2010','20/2/2002','1/3/2003','20/5/2006','3/12/2002']"
   ]
  },
  {
   "cell_type": "code",
   "execution_count": null,
   "id": "45668adc-0c27-4543-9476-5da47c4acbdb",
   "metadata": {},
   "outputs": [],
   "source": [
    "print(df.to_string())"
   ]
  },
  {
   "cell_type": "code",
   "execution_count": null,
   "id": "5a2cd3e3-8931-43e6-ac64-3f1e8ad90f2e",
   "metadata": {},
   "outputs": [],
   "source": [
    "max_salary_row = df.iloc[df['Annual Salary'].idxmax()]\n",
    "print(\"the largest salary:\")\n",
    "print(max_salary_row)"
   ]
  },
  {
   "cell_type": "code",
   "execution_count": null,
   "id": "867db84b-99d1-4b3d-bbe4-cd2dd1e7568a",
   "metadata": {},
   "outputs": [],
   "source": [
    "df.to_excel('C:/Users/Admin/Downloads/Employee Sample Data - Copy.xlsx')"
   ]
  }
 ],
 "metadata": {
  "kernelspec": {
   "display_name": "Python 3 (ipykernel)",
   "language": "python",
   "name": "python3"
  },
  "language_info": {
   "codemirror_mode": {
    "name": "ipython",
    "version": 3
   },
   "file_extension": ".py",
   "mimetype": "text/x-python",
   "name": "python",
   "nbconvert_exporter": "python",
   "pygments_lexer": "ipython3",
   "version": "3.12.3"
  }
 },
 "nbformat": 4,
 "nbformat_minor": 5
}
